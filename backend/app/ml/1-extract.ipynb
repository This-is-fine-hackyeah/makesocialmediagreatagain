{
 "cells": [
  {
   "cell_type": "code",
   "execution_count": 1,
   "id": "84c68644",
   "metadata": {},
   "outputs": [
    {
     "name": "stderr",
     "output_type": "stream",
     "text": [
      "/opt/conda/lib/python3.8/site-packages/tqdm/auto.py:22: TqdmWarning: IProgress not found. Please update jupyter and ipywidgets. See https://ipywidgets.readthedocs.io/en/stable/user_install.html\n",
      "  from .autonotebook import tqdm as notebook_tqdm\n"
     ]
    }
   ],
   "source": [
    "import torch\n",
    "import torch.nn as nn\n",
    "from transformers import XLMTokenizer, RobertaModel\n",
    "\n",
    "\n",
    "# extract features from texts\n",
    "class TextFeatureExtractor(nn.Module):\n",
    "    def __init__(\n",
    "            self,\n",
    "            tokenizer=\"allegro/herbert-klej-cased-tokenizer-v1\",\n",
    "            embed_model=\"allegro/herbert-klej-cased-v1\"\n",
    "    ):\n",
    "        super().__init__()\n",
    "\n",
    "        self.tokenizer = XLMTokenizer.from_pretrained(tokenizer)\n",
    "        self.embed_model = RobertaModel.from_pretrained(embed_model, return_dict=True)\n",
    "\n",
    "        self.eval()\n",
    "\n",
    "    def forward(self, x):\n",
    "        encoded = self.tokenizer(x, return_tensors='pt', padding=True)\n",
    "        encoded = {k: v.to(next(self.parameters()).device) for k, v in encoded.items()}\n",
    "        return self.embed_model(**encoded)['pooler_output'].float()\n",
    "    \n",
    "    "
   ]
  },
  {
   "cell_type": "code",
   "execution_count": 2,
   "id": "23b5e526",
   "metadata": {},
   "outputs": [],
   "source": [
    "import json\n",
    "\n",
    "\n",
    "with open(\"positive_parsed.json\") as fp:\n",
    "    positive = json.load(fp)\n",
    "\n",
    "with open(\"negative_parsed.json\") as fp:\n",
    "    negative = json.load(fp)\n",
    "    "
   ]
  },
  {
   "cell_type": "code",
   "execution_count": 3,
   "id": "8c4e21c8",
   "metadata": {},
   "outputs": [
    {
     "name": "stderr",
     "output_type": "stream",
     "text": [
      "100%|██████████████████████████████████████████████████████████████████████████████████████████████████████████████████████████████████████████████████████████████████████████████████████████████████████████| 258/258 [00:01<00:00, 133.34it/s]\n",
      "100%|██████████████████████████████████████████████████████████████████████████████████████████████████████████████████████████████████████████████████████████████████████████████████████████████████████████| 583/583 [00:03<00:00, 178.23it/s]\n"
     ]
    }
   ],
   "source": [
    "from tqdm import tqdm\n",
    "\n",
    "\n",
    "encoder = TextFeatureExtractor().cuda().eval()\n",
    "\n",
    "with torch.no_grad():\n",
    "    positive_features = {}\n",
    "    for key, text in tqdm(positive.items()):\n",
    "        positive_features[key] = encoder(text).cpu().numpy()\n",
    "\n",
    "\n",
    "    negative_features = {}\n",
    "    for key, text in tqdm(negative.items()):\n",
    "        negative_features[key] = encoder(text).cpu().numpy()\n"
   ]
  },
  {
   "cell_type": "code",
   "execution_count": 4,
   "id": "5eae27eb",
   "metadata": {},
   "outputs": [],
   "source": [
    "import pickle\n",
    "\n",
    "with open(\"positive_features.pickle\", \"wb\") as fp:\n",
    "    pickle.dump(positive_features, fp)\n",
    "\n",
    "with open(\"negative_features.pickle\", \"wb\") as fp:\n",
    "    pickle.dump(negative_features, fp)\n",
    "    "
   ]
  }
 ],
 "metadata": {
  "kernelspec": {
   "display_name": "Python 3 (ipykernel)",
   "language": "python",
   "name": "python3"
  },
  "language_info": {
   "codemirror_mode": {
    "name": "ipython",
    "version": 3
   },
   "file_extension": ".py",
   "mimetype": "text/x-python",
   "name": "python",
   "nbconvert_exporter": "python",
   "pygments_lexer": "ipython3",
   "version": "3.8.13"
  }
 },
 "nbformat": 4,
 "nbformat_minor": 5
}
